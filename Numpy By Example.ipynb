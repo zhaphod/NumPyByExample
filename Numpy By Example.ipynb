{
 "metadata": {
  "name": "",
  "signature": "sha256:24d0d0d724480157a0401bcf7197356516225fd4dbb0b3381942f6b71f4217a0"
 },
 "nbformat": 3,
 "nbformat_minor": 0,
 "worksheets": [
  {
   "cells": [
    {
     "cell_type": "markdown",
     "metadata": {},
     "source": [
      "# Numpy and Scipy by Example\n",
      "Python is an amazing language. It has an easy syntax and beginners pick it up very easily. For an experienced programmer it provides enough additional packages to implement any conceivable tool or app. But it suffers from one major drawback. It is slow. It is slow because it is an interpreted language. This makes it unsuitable for numerical and scientific computing. To address this issue Numpy was written. Numpy provides routines for fast manipulation of large arrays and matrices. Scipy extends the Numpy package by providing useful algorithms like minimization, fft, integration, curve fitting etc"
     ]
    },
    {
     "cell_type": "markdown",
     "metadata": {},
     "source": [
      "# Installation\n",
      "\n",
      "Please refer the [scipy](http://www.scipy.org/) website for details."
     ]
    },
    {
     "cell_type": "markdown",
     "metadata": {},
     "source": [
      "# Importing Numpy\n",
      "Numpy can be imported in multiple ways. Preferred methods are shown below."
     ]
    },
    {
     "cell_type": "code",
     "collapsed": false,
     "input": [
      "import numpy"
     ],
     "language": "python",
     "metadata": {},
     "outputs": [],
     "prompt_number": 2
    },
    {
     "cell_type": "code",
     "collapsed": false,
     "input": [
      "import numpy as np"
     ],
     "language": "python",
     "metadata": {},
     "outputs": [],
     "prompt_number": 3
    },
    {
     "cell_type": "markdown",
     "metadata": {},
     "source": [
      "# Arrays\n",
      "Arrays are the core object of Numpy. It is similar to the Python list but it can hold objects of the same type at a time. For example the objects can be either float or int but not both at the same time. Numpy arrays can be created from existing Python lists."
     ]
    },
    {
     "cell_type": "code",
     "collapsed": false,
     "input": [
      "a = np.array([1,2,3,4,5], float)"
     ],
     "language": "python",
     "metadata": {},
     "outputs": [],
     "prompt_number": 4
    },
    {
     "cell_type": "code",
     "collapsed": false,
     "input": [
      "a"
     ],
     "language": "python",
     "metadata": {},
     "outputs": [
      {
       "metadata": {},
       "output_type": "pyout",
       "prompt_number": 5,
       "text": [
        "array([ 1.,  2.,  3.,  4.,  5.])"
       ]
      }
     ],
     "prompt_number": 5
    },
    {
     "cell_type": "code",
     "collapsed": false,
     "input": [
      "type(a)"
     ],
     "language": "python",
     "metadata": {},
     "outputs": [
      {
       "metadata": {},
       "output_type": "pyout",
       "prompt_number": 6,
       "text": [
        "numpy.ndarray"
       ]
      }
     ],
     "prompt_number": 6
    },
    {
     "cell_type": "markdown",
     "metadata": {},
     "source": [
      "Array objects can be accessed just like Python list elements."
     ]
    },
    {
     "cell_type": "code",
     "collapsed": false,
     "input": [
      "a[0], a[-1], a[0:2], a[::-1]"
     ],
     "language": "python",
     "metadata": {},
     "outputs": [
      {
       "metadata": {},
       "output_type": "pyout",
       "prompt_number": 7,
       "text": [
        "(1.0, 5.0, array([ 1.,  2.]), array([ 5.,  4.,  3.,  2.,  1.]))"
       ]
      }
     ],
     "prompt_number": 7
    },
    {
     "cell_type": "markdown",
     "metadata": {},
     "source": [
      "Multi-dimensional arrays can also be created. But dimensions are accessed by a comma separated list of indices unlike the Python lists."
     ]
    },
    {
     "cell_type": "code",
     "collapsed": false,
     "input": [
      "b = np.array([[1,2,3,4,5,6],[1,4,9,16,25,36],[1,8,27,64,125,216]], int)"
     ],
     "language": "python",
     "metadata": {},
     "outputs": [],
     "prompt_number": 8
    },
    {
     "cell_type": "code",
     "collapsed": false,
     "input": [
      "b"
     ],
     "language": "python",
     "metadata": {},
     "outputs": [
      {
       "metadata": {},
       "output_type": "pyout",
       "prompt_number": 9,
       "text": [
        "array([[  1,   2,   3,   4,   5,   6],\n",
        "       [  1,   4,   9,  16,  25,  36],\n",
        "       [  1,   8,  27,  64, 125, 216]])"
       ]
      }
     ],
     "prompt_number": 9
    },
    {
     "cell_type": "code",
     "collapsed": false,
     "input": [
      "b[0], b[-1], b[2,2], b[0:2]"
     ],
     "language": "python",
     "metadata": {},
     "outputs": [
      {
       "metadata": {},
       "output_type": "pyout",
       "prompt_number": 17,
       "text": [
        "(array([1, 2, 3, 4, 5, 6]),\n",
        " array([  1,   8,  27,  64, 125, 216]),\n",
        " 27,\n",
        " array([[ 1,  2,  3,  4,  5,  6],\n",
        "        [ 1,  4,  9, 16, 25, 36]]))"
       ]
      }
     ],
     "prompt_number": 17
    },
    {
     "cell_type": "markdown",
     "metadata": {},
     "source": [
      "Numpy extends indexing syntax futher so that individual columns can also be selected."
     ]
    },
    {
     "cell_type": "code",
     "collapsed": false,
     "input": [
      "b[:,0],b[:,1], b[:,2]"
     ],
     "language": "python",
     "metadata": {},
     "outputs": [
      {
       "metadata": {},
       "output_type": "pyout",
       "prompt_number": 18,
       "text": [
        "(array([1, 1, 1]), array([2, 4, 8]), array([ 3,  9, 27]))"
       ]
      }
     ],
     "prompt_number": 18
    },
    {
     "cell_type": "code",
     "collapsed": false,
     "input": [
      "b[0, :],b[1, :], b[1:, 3:]"
     ],
     "language": "python",
     "metadata": {},
     "outputs": [
      {
       "metadata": {},
       "output_type": "pyout",
       "prompt_number": 26,
       "text": [
        "(array([1, 2, 3, 4, 5, 6]),\n",
        " array([ 1,  4,  9, 16, 25, 36]),\n",
        " array([[ 16,  25,  36],\n",
        "        [ 64, 125, 216]]))"
       ]
      }
     ],
     "prompt_number": 26
    },
    {
     "cell_type": "markdown",
     "metadata": {},
     "source": [
      "Or only those elements which meet certain criteria."
     ]
    },
    {
     "cell_type": "code",
     "collapsed": false,
     "input": [
      "b[b>25], b > 25"
     ],
     "language": "python",
     "metadata": {},
     "outputs": [
      {
       "metadata": {},
       "output_type": "pyout",
       "prompt_number": 51,
       "text": [
        "(array([ 36,  27,  64, 125, 216]),\n",
        " array([[False, False, False, False, False, False],\n",
        "        [False, False, False, False, False,  True],\n",
        "        [False, False,  True,  True,  True,  True]], dtype=bool))"
       ]
      }
     ],
     "prompt_number": 51
    },
    {
     "cell_type": "markdown",
     "metadata": {},
     "source": [
      "The *shape* property returns a tuple with the dimensions of the array and the *dtype* property returns the type of the elements of the array."
     ]
    },
    {
     "cell_type": "code",
     "collapsed": false,
     "input": [
      "b.shape, a.dtype"
     ],
     "language": "python",
     "metadata": {},
     "outputs": [
      {
       "metadata": {},
       "output_type": "pyout",
       "prompt_number": 29,
       "text": [
        "((3L, 6L), dtype('float64'))"
       ]
      }
     ],
     "prompt_number": 29
    },
    {
     "cell_type": "markdown",
     "metadata": {},
     "source": [
      "len returns the length of the first dimension of the array."
     ]
    },
    {
     "cell_type": "code",
     "collapsed": false,
     "input": [
      "len(b)"
     ],
     "language": "python",
     "metadata": {},
     "outputs": [
      {
       "metadata": {},
       "output_type": "pyout",
       "prompt_number": 30,
       "text": [
        "3"
       ]
      }
     ],
     "prompt_number": 30
    },
    {
     "cell_type": "markdown",
     "metadata": {},
     "source": [
      "The **in** statement can be used to test if an element is in the array."
     ]
    },
    {
     "cell_type": "code",
     "collapsed": false,
     "input": [
      "125 in b, 124 in b"
     ],
     "language": "python",
     "metadata": {},
     "outputs": [
      {
       "metadata": {},
       "output_type": "pyout",
       "prompt_number": 32,
       "text": [
        "(True, False)"
       ]
      }
     ],
     "prompt_number": 32
    },
    {
     "cell_type": "markdown",
     "metadata": {},
     "source": [
      "Arrays can be reshaped using tuples that specify new dimension."
     ]
    },
    {
     "cell_type": "code",
     "collapsed": false,
     "input": [
      "a = np.array(range(10), int)"
     ],
     "language": "python",
     "metadata": {},
     "outputs": [],
     "prompt_number": 70
    },
    {
     "cell_type": "code",
     "collapsed": false,
     "input": [
      "a.shape"
     ],
     "language": "python",
     "metadata": {},
     "outputs": [
      {
       "metadata": {},
       "output_type": "pyout",
       "prompt_number": 71,
       "text": [
        "(10L,)"
       ]
      }
     ],
     "prompt_number": 71
    },
    {
     "cell_type": "code",
     "collapsed": false,
     "input": [
      "a.reshape((5,2))"
     ],
     "language": "python",
     "metadata": {},
     "outputs": [
      {
       "metadata": {},
       "output_type": "pyout",
       "prompt_number": 72,
       "text": [
        "array([[0, 1],\n",
        "       [2, 3],\n",
        "       [4, 5],\n",
        "       [6, 7],\n",
        "       [8, 9]])"
       ]
      }
     ],
     "prompt_number": 72
    },
    {
     "cell_type": "markdown",
     "metadata": {},
     "source": [
      "Just calling **reshape** doesn't change the array."
     ]
    },
    {
     "cell_type": "code",
     "collapsed": false,
     "input": [
      "a.shape, a"
     ],
     "language": "python",
     "metadata": {},
     "outputs": [
      {
       "metadata": {},
       "output_type": "pyout",
       "prompt_number": 73,
       "text": [
        "((10L,), array([0, 1, 2, 3, 4, 5, 6, 7, 8, 9]))"
       ]
      }
     ],
     "prompt_number": 73
    },
    {
     "cell_type": "markdown",
     "metadata": {},
     "source": [
      "In order to reshape the array it needs to be assigned to. Note the the dimension changes but not the elements themselves."
     ]
    },
    {
     "cell_type": "code",
     "collapsed": false,
     "input": [
      "a = a.reshape((5,2))"
     ],
     "language": "python",
     "metadata": {},
     "outputs": [],
     "prompt_number": 74
    },
    {
     "cell_type": "code",
     "collapsed": false,
     "input": [
      "a, a.shape"
     ],
     "language": "python",
     "metadata": {},
     "outputs": [
      {
       "metadata": {},
       "output_type": "pyout",
       "prompt_number": 76,
       "text": [
        "(array([[0, 1],\n",
        "        [2, 3],\n",
        "        [4, 5],\n",
        "        [6, 7],\n",
        "        [8, 9]]), (5L, 2L))"
       ]
      }
     ],
     "prompt_number": 76
    },
    {
     "cell_type": "markdown",
     "metadata": {},
     "source": [
      "The **copy** funtion can be used to create a copy of the array in memory."
     ]
    },
    {
     "cell_type": "code",
     "collapsed": false,
     "input": [
      "a = np.array(range(4), float)"
     ],
     "language": "python",
     "metadata": {},
     "outputs": [],
     "prompt_number": 81
    },
    {
     "cell_type": "code",
     "collapsed": false,
     "input": [
      "c = a.copy()"
     ],
     "language": "python",
     "metadata": {},
     "outputs": [],
     "prompt_number": 82
    },
    {
     "cell_type": "code",
     "collapsed": false,
     "input": [
      "c, a"
     ],
     "language": "python",
     "metadata": {},
     "outputs": [
      {
       "metadata": {},
       "output_type": "pyout",
       "prompt_number": 83,
       "text": [
        "(array([ 0.,  1.,  2.,  3.]), array([ 0.,  1.,  2.,  3.]))"
       ]
      }
     ],
     "prompt_number": 83
    },
    {
     "cell_type": "code",
     "collapsed": false,
     "input": [
      "a[0:] = 100"
     ],
     "language": "python",
     "metadata": {},
     "outputs": [],
     "prompt_number": 86
    },
    {
     "cell_type": "code",
     "collapsed": false,
     "input": [
      "c, a"
     ],
     "language": "python",
     "metadata": {},
     "outputs": [
      {
       "metadata": {},
       "output_type": "pyout",
       "prompt_number": 87,
       "text": [
        "(array([ 0.,  1.,  2.,  3.]), array([ 100.,  100.,  100.,  100.]))"
       ]
      }
     ],
     "prompt_number": 87
    },
    {
     "cell_type": "markdown",
     "metadata": {},
     "source": [
      "Python lists can be created from Numpy arrays using the **tolist** function."
     ]
    },
    {
     "cell_type": "code",
     "collapsed": false,
     "input": [
      "d = a.tolist()"
     ],
     "language": "python",
     "metadata": {},
     "outputs": [],
     "prompt_number": 88
    },
    {
     "cell_type": "code",
     "collapsed": false,
     "input": [
      "d"
     ],
     "language": "python",
     "metadata": {},
     "outputs": [
      {
       "metadata": {},
       "output_type": "pyout",
       "prompt_number": 89,
       "text": [
        "[100.0, 100.0, 100.0, 100.0]"
       ]
      }
     ],
     "prompt_number": 89
    },
    {
     "cell_type": "code",
     "collapsed": false,
     "input": [],
     "language": "python",
     "metadata": {},
     "outputs": []
    }
   ],
   "metadata": {}
  }
 ]
}